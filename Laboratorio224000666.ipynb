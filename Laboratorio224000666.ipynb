{
 "cells": [
  {
   "cell_type": "markdown",
   "id": "0",
   "metadata": {},
   "source": [
    "# Laboratorio 2\n",
    "### Salvador Amaya\n",
    "### 24000666"
   ]
  },
  {
   "cell_type": "markdown",
   "id": "1",
   "metadata": {},
   "source": [
    "### Pregunta 1"
   ]
  },
  {
   "cell_type": "code",
   "execution_count": 58,
   "id": "2",
   "metadata": {},
   "outputs": [
    {
     "name": "stdout",
     "output_type": "stream",
     "text": [
      "Ingrese los segundos: 300000\n",
      "Horas:  83 , Minutos:  20 , Segundos:  0\n"
     ]
    }
   ],
   "source": [
    "import math\n",
    "try:\n",
    "    A=float(input(\"Ingrese los segundos: \"))\n",
    "    if A<0:\n",
    "        print(\"Error - ingresó un número negativo\")\n",
    "    else:\n",
    "\n",
    "\n",
    "            horas=math.floor(A/3600)\n",
    "            minutos=math.floor((A-horas*3600)/60)\n",
    "            segundos=math.floor(A-horas*3600-minutos*60)\n",
    "            print(\"Horas: \", str(horas), \", Minutos: \", str(minutos), \", Segundos: \", str(segundos))\n",
    "except ValueError:\n",
    "    print(\"Error - ingresó una letra\")\n"
   ]
  },
  {
   "cell_type": "markdown",
   "id": "3",
   "metadata": {},
   "source": [
    "### Pregunta 2"
   ]
  },
  {
   "cell_type": "code",
   "execution_count": 59,
   "id": "4",
   "metadata": {},
   "outputs": [
    {
     "name": "stdout",
     "output_type": "stream",
     "text": [
      "Ingrese un caracter: x\n",
      "Ingrese un número entre 1 y 20: 15\n",
      "x  xxxxxxxxxxxxxxx  xxxxxxxxxxxxxxx  x\n",
      "xx  xxxxxxxxxxxxxx  xxxxxxxxxxxxxx  xx\n",
      "xxx  xxxxxxxxxxxxx  xxxxxxxxxxxxx  xxx\n",
      "xxxx  xxxxxxxxxxxx  xxxxxxxxxxxx  xxxx\n",
      "xxxxx  xxxxxxxxxxx  xxxxxxxxxxx  xxxxx\n",
      "xxxxxx  xxxxxxxxxx  xxxxxxxxxx  xxxxxx\n",
      "xxxxxxx  xxxxxxxxx  xxxxxxxxx  xxxxxxx\n",
      "xxxxxxxx  xxxxxxxx  xxxxxxxx  xxxxxxxx\n",
      "xxxxxxxxx  xxxxxxx  xxxxxxx  xxxxxxxxx\n",
      "xxxxxxxxxx  xxxxxx  xxxxxx  xxxxxxxxxx\n",
      "xxxxxxxxxxx  xxxxx  xxxxx  xxxxxxxxxxx\n",
      "xxxxxxxxxxxx  xxxx  xxxx  xxxxxxxxxxxx\n",
      "xxxxxxxxxxxxx  xxx  xxx  xxxxxxxxxxxxx\n",
      "xxxxxxxxxxxxxx  xx  xx  xxxxxxxxxxxxxx\n",
      "xxxxxxxxxxxxxxx  x  x  xxxxxxxxxxxxxxx\n"
     ]
    }
   ],
   "source": [
    "car=str(input(\"Ingrese un caracter: \"))\n",
    "\n",
    "try:\n",
    "    num=int(input(\"Ingrese un número entre 1 y 20: \"))\n",
    "except ValueError:\n",
    "    print(\"Error - no ingresó un número\")\n",
    "\n",
    "cnt=0\n",
    "num_orig=num+0\n",
    "\n",
    "if num<1 or num>20:\n",
    "    print(\"Error - ingresó un número fuera del rango\")\n",
    "else:\n",
    "    while num>cnt:\n",
    "        print (car*(num_orig-num+1)+\"  \"+car*num+\"  \"+car*num+\"  \"+car*(num_orig-num+1))\n",
    "        num=num-1"
   ]
  },
  {
   "cell_type": "markdown",
   "id": "5",
   "metadata": {},
   "source": [
    "### Pregunta 3"
   ]
  },
  {
   "cell_type": "code",
   "execution_count": 60,
   "id": "6",
   "metadata": {},
   "outputs": [
    {
     "name": "stdout",
     "output_type": "stream",
     "text": [
      "Ingrese su año de nacimiento: 1996\n",
      "Ingrese su mes de nacimiento: 9\n",
      "Ingrese su día de nacimiento: 6\n",
      "Usted tiene 27 años, 5 meses, y 16 días de edad.\n"
     ]
    }
   ],
   "source": [
    "from datetime import date, datetime\n",
    "\n",
    "try:\n",
    "    a=int(input(\"Ingrese su año de nacimiento: \"))\n",
    "    if a<0:\n",
    "        print(\"Error - ingresó un año menor a 0\")\n",
    "    else:\n",
    "        m=int(input(\"Ingrese su mes de nacimiento: \"))\n",
    "        if m<1 or m>12:\n",
    "            print(\"Error - ingresó un mes inválido\")\n",
    "        else:\n",
    "            d=int(input(\"Ingrese su día de nacimiento: \"))\n",
    "            if d<1 or d>31:\n",
    "                print(\"Error - ingresó un día inválido\")\n",
    "            else:\n",
    "                \n",
    "                \n",
    "\n",
    "                fec=date(a,m,d)\n",
    "                hoy=date.today()\n",
    "\n",
    "                dias=(hoy-fec).days\n",
    "                aa=math.floor(dias/365.25)\n",
    "                mm=math.floor((dias-aa*365.25)/(365.25/12))\n",
    "                dd=math.floor(dias-aa*365.25-mm*362.25/12)\n",
    "\n",
    "                print(\"Usted tiene \"+str(aa)+\" años, \"+str(mm)+\" meses, y \"+str(dd)+\" días de edad.\")\n",
    "\n",
    "except ValueError:\n",
    "    print(\"Error - no ingresó un número\")\n",
    "    \n",
    "\n",
    "\n"
   ]
  },
  {
   "cell_type": "markdown",
   "id": "7",
   "metadata": {},
   "source": [
    "### Pregunta 4"
   ]
  },
  {
   "cell_type": "code",
   "execution_count": 61,
   "id": "8",
   "metadata": {},
   "outputs": [
    {
     "name": "stdout",
     "output_type": "stream",
     "text": [
      "Ingrese los elementos de la tupla, cuando termine escriba \"Fin\" f\n",
      "Ingrese los elementos de la tupla, cuando termine escriba \"Fin\" 2\n",
      "Ingrese los elementos de la tupla, cuando termine escriba \"Fin\" k\n",
      "Ingrese los elementos de la tupla, cuando termine escriba \"Fin\" p\n",
      "Ingrese los elementos de la tupla, cuando termine escriba \"Fin\" 1\n",
      "Ingrese los elementos de la tupla, cuando termine escriba \"Fin\" Fin\n",
      "f2kp1\n"
     ]
    }
   ],
   "source": [
    "t=[]\n",
    "a=input('Ingrese los elementos de la tupla, cuando termine escriba \"Fin\" ')\n",
    "\n",
    "while a!=\"Fin\":\n",
    "    t.append(a)\n",
    "    a=input('Ingrese los elementos de la tupla, cuando termine escriba \"Fin\" ')\n",
    "\n",
    "t=tuple(t)\n",
    "\n",
    "st=\"\"\n",
    "for e in t:\n",
    "    st=st+e\n",
    "\n",
    "print(st)"
   ]
  },
  {
   "cell_type": "markdown",
   "id": "9",
   "metadata": {},
   "source": [
    "### Pregunta 5"
   ]
  },
  {
   "cell_type": "code",
   "execution_count": 13,
   "id": "10",
   "metadata": {},
   "outputs": [
    {
     "name": "stdout",
     "output_type": "stream",
     "text": [
      "Para ingresar una nueva tupla escriba 'Nueva', si desea finalizar escriba 'Fin': Nueva\n",
      "Ingrese los elementos de la tupla, cuando termine escriba \"Fin\" f\n",
      "Ingrese los elementos de la tupla, cuando termine escriba \"Fin\" d\n",
      "Ingrese los elementos de la tupla, cuando termine escriba \"Fin\" a\n",
      "Ingrese los elementos de la tupla, cuando termine escriba \"Fin\" Fin\n",
      "Para ingresar una nueva tupla escriba 'Nueva', si desea finalizar escriba 'Fin': Nueva\n",
      "Ingrese los elementos de la tupla, cuando termine escriba \"Fin\" \n",
      "Ingrese los elementos de la tupla, cuando termine escriba \"Fin\" \n",
      "Ingrese los elementos de la tupla, cuando termine escriba \"Fin\" Fin\n",
      "Para ingresar una nueva tupla escriba 'Nueva', si desea finalizar escriba 'Fin': Nueva\n",
      "Ingrese los elementos de la tupla, cuando termine escriba \"Fin\" 1\n",
      "Ingrese los elementos de la tupla, cuando termine escriba \"Fin\" 2\n",
      "Ingrese los elementos de la tupla, cuando termine escriba \"Fin\" Fin\n",
      "Para ingresar una nueva tupla escriba 'Nueva', si desea finalizar escriba 'Fin': Fin\n",
      "Tuplas ingresadas: \n",
      "[('f', 'd', 'a'), ('', ''), ('1', '2')]\n",
      "Tuplas que contienen elementos: \n",
      "[('f', 'd', 'a'), ('1', '2')]\n"
     ]
    }
   ],
   "source": [
    "tuplas=[]\n",
    "eliminar=[]\n",
    "tuplas2=[]\n",
    "\n",
    "b=input(\"Para ingresar una nueva tupla escriba 'Nueva', si desea finalizar escriba 'Fin': \")\n",
    "while b!=\"Fin\":\n",
    "    if b not in [\"Nueva\",\"Fin\"]:\n",
    "        print(\"Por favor escriba uno de los comandos válidos\")\n",
    "        b=input(\"Para ingresar una nueva tupla escriba 'Nueva', si desea finalizar escriba 'Fin': \")\n",
    "    elif b==\"Nueva\": \n",
    "        t=[]\n",
    "        a=input('Ingrese los elementos de la tupla, cuando termine escriba \"Fin\" ')\n",
    "        while a!=\"Fin\":\n",
    "            t.append(a)\n",
    "            a=input('Ingrese los elementos de la tupla, cuando termine escriba \"Fin\" ')\n",
    "        t=tuple(t)\n",
    "        tuplas.append(t)\n",
    "        b=input(\"Para ingresar una nueva tupla escriba 'Nueva', si desea finalizar escriba 'Fin': \")\n",
    "    if b==\"Fin\":\n",
    "        print(\"Tuplas ingresadas: \")\n",
    "        print(tuplas)\n",
    "        print(\"Tuplas que contienen elementos: \")\n",
    "        for i in tuplas:\n",
    "            st=\"\"\n",
    "            for e in i:\n",
    "                st=st+e\n",
    "            eliminar.append(len(st))\n",
    "        indice=-1\n",
    "        for i in eliminar:\n",
    "            indice=indice+1\n",
    "            if i>0:\n",
    "                tuplas2.append(tuplas[indice])     \n",
    "        print(tuplas2)"
   ]
  },
  {
   "cell_type": "markdown",
   "id": "12",
   "metadata": {},
   "source": [
    "### Pregunta 6"
   ]
  },
  {
   "cell_type": "code",
   "execution_count": 40,
   "id": "13",
   "metadata": {},
   "outputs": [
    {
     "name": "stdout",
     "output_type": "stream",
     "text": [
      "Para ingresar una nueva tupla escriba 'Nueva', si desea finalizar escriba 'Fin': Nueva\n",
      "Ingrese los elementos de la tupla, cuando termine escriba \"Fin\" k\n",
      "Error - el valor debe ser numérico\n",
      "Ingrese los elementos de la tupla, cuando termine escriba \"Fin\" 1\n",
      "Ingrese los elementos de la tupla, cuando termine escriba \"Fin\" 2\n",
      "Ingrese los elementos de la tupla, cuando termine escriba \"Fin\" Fin\n",
      "Para ingresar una nueva tupla escriba 'Nueva', si desea finalizar escriba 'Fin': Nueva\n",
      "Ingrese los elementos de la tupla, cuando termine escriba \"Fin\" k\n",
      "Error - el valor debe ser numérico\n",
      "Ingrese los elementos de la tupla, cuando termine escriba \"Fin\" 3\n",
      "Ingrese los elementos de la tupla, cuando termine escriba \"Fin\" 4\n",
      "Ingrese los elementos de la tupla, cuando termine escriba \"Fin\" Fin\n",
      "Para ingresar una nueva tupla escriba 'Nueva', si desea finalizar escriba 'Fin': Fin\n",
      "Tuplas ingresadas: \n",
      "((1.0, 2.0), (3.0, 4.0))\n",
      "Promedio de cada tupla: \n",
      "(1.5, 3.5)\n"
     ]
    }
   ],
   "source": [
    "tuplas=[]\n",
    "\n",
    "b=input(\"Para ingresar una nueva tupla escriba 'Nueva', si desea finalizar escriba 'Fin': \")\n",
    "while b!=\"Fin\":\n",
    "    if b not in [\"Nueva\",\"Fin\"]:\n",
    "        print(\"Por favor escriba uno de los comandos válidos\")\n",
    "        b=input(\"Para ingresar una nueva tupla escriba 'Nueva', si desea finalizar escriba 'Fin': \")\n",
    "    elif b==\"Nueva\": \n",
    "        t=[]\n",
    "        a=input('Ingrese los elementos de la tupla, cuando termine escriba \"Fin\" ')\n",
    "        while a!=\"Fin\":\n",
    "            try:\n",
    "                t.append(float(a))\n",
    "                a=input('Ingrese los elementos de la tupla, cuando termine escriba \"Fin\" ')\n",
    "            except ValueError:\n",
    "                print(\"Error - el valor debe ser numérico\")\n",
    "                a=input('Ingrese los elementos de la tupla, cuando termine escriba \"Fin\" ')\n",
    "        t=tuple(t)\n",
    "        tuplas.append(t)\n",
    "        b=input(\"Para ingresar una nueva tupla escriba 'Nueva', si desea finalizar escriba 'Fin': \")\n",
    "    if b==\"Fin\":\n",
    "        print(\"Tuplas ingresadas: \")\n",
    "        tuplas=tuple(tuplas)\n",
    "        print(tuplas)\n",
    "        print(\"Promedio de cada tupla: \")\n",
    "        sumas=[sum(i) for i in tuplas]\n",
    "        counts=[len(i) for i in tuplas]\n",
    "        promedio=[i/j for i,j in zip(sumas, counts)]\n",
    "        print(tuple(promedio))"
   ]
  },
  {
   "cell_type": "markdown",
   "id": "14",
   "metadata": {},
   "source": [
    "### Pregunta 7"
   ]
  },
  {
   "cell_type": "code",
   "execution_count": 80,
   "id": "a6fb8edb",
   "metadata": {},
   "outputs": [
    {
     "name": "stdout",
     "output_type": "stream",
     "text": [
      "Escriba \"Nueva\" para añadir una nueva factura, \"Pagar\" para pagar una factura existente o \"Terminar\" para salir: Nueva\n",
      "Ingrese un número de factura entre 1000 y 9999: 1000\n",
      "Ingrese el valor de la factura:10\n",
      "Facturas vigentes:\n",
      "{'1000': 10.0}\n",
      "Monto cobrado: 0\n",
      "Monto pendiente: 10.0\n",
      "Escriba \"Nueva\" para añadir una nueva factura, \"Pagar\" para pagar una factura existente o \"Terminar\" para salir: Nueva\n",
      "Ingrese un número de factura entre 1000 y 9999: 2000\n",
      "Ingrese el valor de la factura:k\n",
      "Error - el valor debe ser numérico\n",
      "Ingrese el valor de la factura:400\n",
      "Facturas vigentes:\n",
      "{'1000': 10.0, '2000': 400.0}\n",
      "Monto cobrado: 0\n",
      "Monto pendiente: 410.0\n",
      "Escriba \"Nueva\" para añadir una nueva factura, \"Pagar\" para pagar una factura existente o \"Terminar\" para salir: Nueva\n",
      "Ingrese un número de factura entre 1000 y 9999: 1000\n",
      "La factura ya existe, ingrese una nueva factura o seleccione la opción 'Pagar'\n",
      "Escriba \"Nueva\" para añadir una nueva factura, \"Pagar\" para pagar una factura existente o \"Terminar\" para salir: Pagar\n",
      "Ingrese el número de factura que desea pagar:3000\n",
      "La factura no existe, ingrese una factura vigente o seleccione la opción 'Nueva'\n",
      "Escriba \"Nueva\" para añadir una nueva factura, \"Pagar\" para pagar una factura existente o \"Terminar\" para salir: Pagar\n",
      "Ingrese el número de factura que desea pagar:1000\n",
      "Facturas vigentes:\n",
      "{'2000': 400.0}\n",
      "Monto cobrado: 10.0\n",
      "Monto pendiente: 400.0\n",
      "Escriba \"Nueva\" para añadir una nueva factura, \"Pagar\" para pagar una factura existente o \"Terminar\" para salir: Terminar\n"
     ]
    }
   ],
   "source": [
    "facturas=dict()\n",
    "\n",
    "a=input('Escriba \"Nueva\" para añadir una nueva factura, \"Pagar\" para pagar una factura existente o \"Terminar\" para salir: ')\n",
    "c=0\n",
    "while a!=\"Terminar\":\n",
    "    if a not in [\"Nueva\", \"Pagar\", \"Terminar\"]:\n",
    "        print(\"Por favor escriba uno de los comandos válidos\")\n",
    "        a=input('Escriba \"Nueva\" para añadir una nueva factura, \"Pagar\" para pagar una factura existente o \"Terminar\" para salir: ')\n",
    "    elif a==\"Nueva\":    \n",
    "        try:\n",
    "            n=str(int(input(\"Ingrese un número de factura entre 1000 y 9999: \")))\n",
    "            if len(n)!=4:\n",
    "                print(\"La factura debe estar entre 1000 y 9999\")\n",
    "            elif n not in facturas:\n",
    "                while not facturas.get(n):\n",
    "                    try:\n",
    "                        nv=float(input(\"Ingrese el valor de la factura:\"))\n",
    "                        facturas[n]=nv\n",
    "                        print(\"Facturas vigentes:\")\n",
    "                        print(facturas)\n",
    "                        print(\"Monto cobrado: \"+str(c))\n",
    "                        print(\"Monto pendiente: \"+str(sum(facturas.values())))\n",
    "                        a=input('Escriba \"Nueva\" para añadir una nueva factura, \"Pagar\" para pagar una factura existente o \"Terminar\" para salir: ')\n",
    "                    except ValueError:\n",
    "                        print(\"Error - el valor debe ser numérico\")\n",
    "            elif n in facturas:\n",
    "                print(\"La factura ya existe, ingrese una nueva factura o seleccione la opción 'Pagar'\")\n",
    "                a=input('Escriba \"Nueva\" para añadir una nueva factura, \"Pagar\" para pagar una factura existente o \"Terminar\" para salir: ')\n",
    "\n",
    "        except ValueError:\n",
    "            print(\"Error - la factura debe estar entre 1000 y 9999\")\n",
    "    elif a==\"Pagar\":\n",
    "        try:\n",
    "            p=str(int(input(\"Ingrese el número de factura que desea pagar:\")))\n",
    "            if len(p)!=4:\n",
    "                print(\"La factura debe estar entre 1000 y 9999\")\n",
    "            elif p not in facturas:\n",
    "                print(\"La factura no existe, ingrese una factura vigente o seleccione la opción 'Nueva'\")\n",
    "                a=input('Escriba \"Nueva\" para añadir una nueva factura, \"Pagar\" para pagar una factura existente o \"Terminar\" para salir: ')\n",
    "            else:\n",
    "                c=c+facturas[p]\n",
    "                del facturas[p]\n",
    "                print(\"Facturas vigentes:\")\n",
    "                print(facturas)\n",
    "                print(\"Monto cobrado: \"+str(c))\n",
    "                print(\"Monto pendiente: \"+str(sum(facturas.values())))\n",
    "                a=input('Escriba \"Nueva\" para añadir una nueva factura, \"Pagar\" para pagar una factura existente o \"Terminar\" para salir: ')\n",
    "        except ValueError:\n",
    "            print(\"Error - la factura debe estar entre 1000 y 9999\")"
   ]
  },
  {
   "cell_type": "markdown",
   "id": "16",
   "metadata": {},
   "source": [
    "### Pregunta 8"
   ]
  },
  {
   "cell_type": "code",
   "execution_count": 81,
   "id": "17",
   "metadata": {},
   "outputs": [
    {
     "data": {
      "text/plain": [
       "{'C1',\n",
       " 'C10',\n",
       " 'C11',\n",
       " 'C12',\n",
       " 'C13',\n",
       " 'C2',\n",
       " 'C3',\n",
       " 'C4',\n",
       " 'C5',\n",
       " 'C6',\n",
       " 'C7',\n",
       " 'C8',\n",
       " 'C9',\n",
       " 'E1',\n",
       " 'E10',\n",
       " 'E11',\n",
       " 'E12',\n",
       " 'E13',\n",
       " 'E2',\n",
       " 'E3',\n",
       " 'E4',\n",
       " 'E5',\n",
       " 'E6',\n",
       " 'E7',\n",
       " 'E8',\n",
       " 'E9',\n",
       " 'P1',\n",
       " 'P10',\n",
       " 'P11',\n",
       " 'P12',\n",
       " 'P13',\n",
       " 'P2',\n",
       " 'P3',\n",
       " 'P4',\n",
       " 'P5',\n",
       " 'P6',\n",
       " 'P7',\n",
       " 'P8',\n",
       " 'P9',\n",
       " 'T1',\n",
       " 'T10',\n",
       " 'T11',\n",
       " 'T12',\n",
       " 'T13',\n",
       " 'T2',\n",
       " 'T3',\n",
       " 'T4',\n",
       " 'T5',\n",
       " 'T6',\n",
       " 'T7',\n",
       " 'T8',\n",
       " 'T9'}"
      ]
     },
     "execution_count": 81,
     "metadata": {},
     "output_type": "execute_result"
    }
   ],
   "source": [
    "color=[\"T\",\"C\",\"P\",\"E\"]\n",
    "cartas=set()\n",
    "\n",
    "for i in color:\n",
    "    for k in range(1,14):\n",
    "        cartas.add(i+str(k))\n",
    "\n",
    "cartas"
   ]
  },
  {
   "cell_type": "code",
   "execution_count": 82,
   "id": "18",
   "metadata": {},
   "outputs": [
    {
     "name": "stdout",
     "output_type": "stream",
     "text": [
      "{'E4', 'C13', 'T2', 'P11', 'P9', 'P8', 'P7', 'E5', 'T5', 'E9', 'E11', 'E8', 'C12', 'P3', 'T4', 'E7', 'C6', 'C11', 'T1', 'E1', 'T13', 'E3', 'C9', 'T6', 'C7', 'C10', 'C2', 'C1', 'P2', 'T7', 'T9', 'P6', 'P12', 'P10', 'E6', 'E10', 'E12', 'T12', 'P13', 'C5', 'P5', 'C8', 'E13', 'P1', 'T11', 'T8', 'E2', 'P4', 'T3', 'C3'}\n",
      "{'E4', 'T2', 'P9', 'P7', 'E11', 'E8', 'C3', 'C11', 'T6', 'C10', 'P6', 'C2', 'T7', 'T9', 'E6', 'E10', 'C4', 'E12', 'C8', 'E13', 'P1', 'E2', 'P4', 'E3'}\n"
     ]
    }
   ],
   "source": [
    "import random\n",
    "ran1=random.sample(range(52),random.randint(1, 52))\n",
    "ran2=random.sample(range(52),random.randint(1, 52))\n",
    "\n",
    "set1=set([list(cartas)[i] for i in ran1])\n",
    "set2=set([list(cartas)[i] for i in ran2])\n",
    "print(set1)\n",
    "print(set2)"
   ]
  },
  {
   "cell_type": "code",
   "execution_count": 83,
   "id": "20",
   "metadata": {},
   "outputs": [
    {
     "name": "stdout",
     "output_type": "stream",
     "text": [
      "La probabilidad del set1 es 0.961538.\n",
      "La probabilidad del set2 es 0.461538.\n",
      "La probabilidad de la intersección de ambos sets es 0.442308.\n",
      "La probabilidad del set1 multiplicado por la probabilidad del set2 es 0.443787.\n",
      "El producto de P(set1)*P(set2) no es igual a la probabilidad de la intersección de ambos sets, entonces los dos sets no son independientes.\n"
     ]
    }
   ],
   "source": [
    "import numpy as np\n",
    "prob_interseccion=len(set1.intersection(set2))/len(cartas)\n",
    "prob_set1=(len(set1)/len(cartas))\n",
    "prob_set2=(len(set2)/len(cartas))\n",
    "print(\"La probabilidad del set1 es \"+str(round(prob_set1,6))+\".\")\n",
    "print(\"La probabilidad del set2 es \"+str(round(prob_set2,6))+\".\")\n",
    "print(\"La probabilidad de la intersección de ambos sets es \"+str(round(prob_interseccion,6))+\".\")\n",
    "print(\"La probabilidad del set1 multiplicado por la probabilidad del set2 es \"+str(round(prob_set1*prob_set2,6))+\".\")\n",
    "if prob_interseccion==prob_set1*prob_set2:\n",
    "    print(\"El producto de P(set1)*P(set2) es igual a la probabilidad de la intersección de ambos sets, entonces los dos sets son independientes.\")\n",
    "else:\n",
    "    print(\"El producto de P(set1)*P(set2) no es igual a la probabilidad de la intersección de ambos sets, entonces los dos sets no son independientes.\")\n"
   ]
  },
  {
   "cell_type": "code",
   "execution_count": 84,
   "id": "21",
   "metadata": {},
   "outputs": [
    {
     "name": "stdout",
     "output_type": "stream",
     "text": [
      "La probabilidad de la unión de ambos sets es 0.980769.\n"
     ]
    }
   ],
   "source": [
    "prob_union=len(set1.union(set2))/len(cartas)\n",
    "print(\"La probabilidad de la unión de ambos sets es \"+str(round(prob_union,6))+\".\")"
   ]
  },
  {
   "cell_type": "code",
   "execution_count": 85,
   "id": "74805d34",
   "metadata": {},
   "outputs": [
    {
     "name": "stdout",
     "output_type": "stream",
     "text": [
      "Regla de la adición: La probabilidad de la intersección de ambos sets es igual a la suma de la probabilidad de cada set menos la probabilidad de la unión de ambos sets.\n",
      "Probabilidad del set1 + Probabilidad del set2 - Probabilidad de la unión= 0.961538 + 0.461538 - 0.980769 = 0.442308\n"
     ]
    }
   ],
   "source": [
    "print(\"Regla de la adición: La probabilidad de la intersección de ambos sets es igual a la suma de la probabilidad de cada set menos la probabilidad de la unión de ambos sets.\")\n",
    "print(\"Probabilidad del set1 + Probabilidad del set2 - Probabilidad de la unión= \"+str(round(prob_set1,6))+\" + \"+\n",
    "     str(round(prob_set2,6))+\" - \"+str(round(prob_union,6))+\" = \"+str(round(prob_set1+prob_set2-prob_union,6)))"
   ]
  }
 ],
 "metadata": {
  "kernelspec": {
   "display_name": "Python 3 (ipykernel)",
   "language": "python",
   "name": "python3"
  },
  "language_info": {
   "codemirror_mode": {
    "name": "ipython",
    "version": 3
   },
   "file_extension": ".py",
   "mimetype": "text/x-python",
   "name": "python",
   "nbconvert_exporter": "python",
   "pygments_lexer": "ipython3",
   "version": "3.11.4"
  }
 },
 "nbformat": 4,
 "nbformat_minor": 5
}
